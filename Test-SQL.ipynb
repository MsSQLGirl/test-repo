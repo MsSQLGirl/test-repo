{
    "metadata": {
        "kernelspec": {
            "name": "SQL",
            "display_name": "SQL",
            "language": "sql"
        },
        "language_info": {
            "name": "sql",
            "version": ""
        }
    },
    "nbformat_minor": 2,
    "nbformat": 4,
    "cells": [
        {
            "cell_type": "markdown",
            "source": "Sample Notebook with output need to be saved.",
            "metadata": {}
        },
        {
            "cell_type": "code",
            "source": "USE WideWorldImporters\r\nGO\r\n\r\nSELECT TOP 10 * FROM Sales.Invoices\r\n",
            "metadata": {},
            "outputs": [
                {
                    "output_type": "display_data",
                    "data": {
                        "text/html": "Commands completed successfully."
                    },
                    "metadata": {}
                },
                {
                    "output_type": "display_data",
                    "data": {
                        "text/html": "Total execution time: 00:00:00.0112883"
                    },
                    "metadata": {}
                },
                {
                    "output_type": "display_data",
                    "data": {
                        "text/html": "(10 rows affected)"
                    },
                    "metadata": {}
                },
                {
                    "output_type": "display_data",
                    "data": {
                        "text/html": "Total execution time: 00:00:00.4546419"
                    },
                    "metadata": {}
                },
                {
                    "output_type": "execute_result",
                    "execution_count": 1,
                    "data": {
                        "application/vnd.dataresource+json": {
                            "schema": {
                                "fields": [
                                    {
                                        "name": "InvoiceID"
                                    },
                                    {
                                        "name": "CustomerID"
                                    },
                                    {
                                        "name": "BillToCustomerID"
                                    },
                                    {
                                        "name": "OrderID"
                                    },
                                    {
                                        "name": "DeliveryMethodID"
                                    },
                                    {
                                        "name": "ContactPersonID"
                                    },
                                    {
                                        "name": "AccountsPersonID"
                                    },
                                    {
                                        "name": "SalespersonPersonID"
                                    },
                                    {
                                        "name": "PackedByPersonID"
                                    },
                                    {
                                        "name": "InvoiceDate"
                                    },
                                    {
                                        "name": "CustomerPurchaseOrderNumber"
                                    },
                                    {
                                        "name": "IsCreditNote"
                                    },
                                    {
                                        "name": "CreditNoteReason"
                                    },
                                    {
                                        "name": "Comments"
                                    },
                                    {
                                        "name": "DeliveryInstructions"
                                    },
                                    {
                                        "name": "InternalComments"
                                    },
                                    {
                                        "name": "TotalDryItems"
                                    },
                                    {
                                        "name": "TotalChillerItems"
                                    },
                                    {
                                        "name": "DeliveryRun"
                                    },
                                    {
                                        "name": "RunPosition"
                                    },
                                    {
                                        "name": "ReturnedDeliveryData"
                                    },
                                    {
                                        "name": "ConfirmedDeliveryTime"
                                    },
                                    {
                                        "name": "ConfirmedReceivedBy"
                                    },
                                    {
                                        "name": "LastEditedBy"
                                    },
                                    {
                                        "name": "LastEditedWhen"
                                    }
                                ]
                            },
                            "data": [
                                {
                                    "0": "1",
                                    "1": "832",
                                    "2": "832",
                                    "3": "1",
                                    "4": "3",
                                    "5": "3032",
                                    "6": "3032",
                                    "7": "2",
                                    "8": "14",
                                    "9": "2013-01-01",
                                    "10": "12126",
                                    "11": "0",
                                    "12": "NULL",
                                    "13": "NULL",
                                    "14": "Suite 24, 1345 Jun Avenue",
                                    "15": "NULL",
                                    "16": "1",
                                    "17": "0",
                                    "18": "",
                                    "19": "",
                                    "20": "{\"Events\": [{ \"Event\":\"Ready for collection\",\"EventTime\":\"2013-01-01T12:00:00\",\"ConNote\":\"EAN-125-1051\"},{ \"Event\":\"DeliveryAttempt\",\"EventTime\":\"2013-01-02T07:05:00\",\"ConNote\":\"EAN-125-1051\",\"DriverID\":15,\"Latitude\":41.3617214,\"Longitude\":-81.4695602,\"Status\":\"Delivered\"}],\"DeliveredWhen\":\"2013-01-02T07:05:00\",\"ReceivedBy\":\"Aakriti Byrraju\"}",
                                    "21": "2013-01-02 07:05:00.0000000",
                                    "22": "Aakriti Byrraju",
                                    "23": "15",
                                    "24": "2013-01-02 07:00:00.0000000"
                                },
                                {
                                    "0": "2",
                                    "1": "803",
                                    "2": "803",
                                    "3": "2",
                                    "4": "3",
                                    "5": "3003",
                                    "6": "3003",
                                    "7": "8",
                                    "8": "14",
                                    "9": "2013-01-01",
                                    "10": "15342",
                                    "11": "0",
                                    "12": "NULL",
                                    "13": "NULL",
                                    "14": "Unit 7, 844 Magnusson Lane",
                                    "15": "NULL",
                                    "16": "2",
                                    "17": "0",
                                    "18": "",
                                    "19": "",
                                    "20": "{\"Events\": [{ \"Event\":\"Ready for collection\",\"EventTime\":\"2013-01-01T12:00:00\",\"ConNote\":\"EAN-125-1052\"},{ \"Event\":\"DeliveryAttempt\",\"EventTime\":\"2013-01-02T07:10:00\",\"ConNote\":\"EAN-125-1052\",\"DriverID\":15,\"Latitude\":40.8657308,\"Longitude\":-120.4602262,\"Status\":\"Delivered\"}],\"DeliveredWhen\":\"2013-01-02T07:10:00\",\"ReceivedBy\":\"Bala Dixit\"}",
                                    "21": "2013-01-02 07:10:00.0000000",
                                    "22": "Bala Dixit",
                                    "23": "15",
                                    "24": "2013-01-02 07:00:00.0000000"
                                },
                                {
                                    "0": "3",
                                    "1": "105",
                                    "2": "1",
                                    "3": "3",
                                    "4": "3",
                                    "5": "1209",
                                    "6": "1001",
                                    "7": "7",
                                    "8": "14",
                                    "9": "2013-01-01",
                                    "10": "12211",
                                    "11": "0",
                                    "12": "NULL",
                                    "13": "NULL",
                                    "14": "Unit 60, 1158 Hrastovsek Boulevard",
                                    "15": "NULL",
                                    "16": "1",
                                    "17": "0",
                                    "18": "",
                                    "19": "",
                                    "20": "{\"Events\": [{ \"Event\":\"Ready for collection\",\"EventTime\":\"2013-01-01T12:00:00\",\"ConNote\":\"EAN-125-1053\"},{ \"Event\":\"DeliveryAttempt\",\"EventTime\":\"2013-01-02T07:15:00\",\"ConNote\":\"EAN-125-1053\",\"DriverID\":15,\"Latitude\":33.4848451,\"Longitude\":-89.3606259,\"Status\":\"Delivered\"}],\"DeliveredWhen\":\"2013-01-02T07:15:00\",\"ReceivedBy\":\"Sung-Hwan Hwang\"}",
                                    "21": "2013-01-02 07:15:00.0000000",
                                    "22": "Sung-Hwan Hwang",
                                    "23": "15",
                                    "24": "2013-01-02 07:00:00.0000000"
                                },
                                {
                                    "0": "4",
                                    "1": "57",
                                    "2": "1",
                                    "3": "4",
                                    "4": "3",
                                    "5": "1113",
                                    "6": "1001",
                                    "7": "16",
                                    "8": "14",
                                    "9": "2013-01-01",
                                    "10": "17129",
                                    "11": "0",
                                    "12": "NULL",
                                    "13": "NULL",
                                    "14": "Unit 136, 1331 Dutta Crescent",
                                    "15": "NULL",
                                    "16": "3",
                                    "17": "0",
                                    "18": "",
                                    "19": "",
                                    "20": "{\"Events\": [{ \"Event\":\"Ready for collection\",\"EventTime\":\"2013-01-01T12:00:00\",\"ConNote\":\"EAN-125-1054\"},{ \"Event\":\"DeliveryAttempt\",\"EventTime\":\"2013-01-02T07:20:00\",\"ConNote\":\"EAN-125-1054\",\"DriverID\":15,\"Latitude\":41.0208896,\"Longitude\":-81.4359458,\"Status\":\"Delivered\"}],\"DeliveredWhen\":\"2013-01-02T07:20:00\",\"ReceivedBy\":\"Aile Mae\"}",
                                    "21": "2013-01-02 07:20:00.0000000",
                                    "22": "Aile Mae",
                                    "23": "15",
                                    "24": "2013-01-02 07:00:00.0000000"
                                },
                                {
                                    "0": "5",
                                    "1": "905",
                                    "2": "905",
                                    "3": "5",
                                    "4": "3",
                                    "5": "3105",
                                    "6": "3105",
                                    "7": "3",
                                    "8": "14",
                                    "9": "2013-01-01",
                                    "10": "10369",
                                    "11": "0",
                                    "12": "NULL",
                                    "13": "NULL",
                                    "14": "Shop 30, 1476 Poddar Lane",
                                    "15": "NULL",
                                    "16": "3",
                                    "17": "0",
                                    "18": "",
                                    "19": "",
                                    "20": "{\"Events\": [{ \"Event\":\"Ready for collection\",\"EventTime\":\"2013-01-01T12:00:00\",\"ConNote\":\"EAN-125-1055\"},{ \"Event\":\"DeliveryAttempt\",\"EventTime\":\"2013-01-02T07:25:00\",\"ConNote\":\"EAN-125-1055\",\"DriverID\":15,\"Latitude\":45.7849627,\"Longitude\":-93.5569028,\"Status\":\"Delivered\"}],\"DeliveredWhen\":\"2013-01-02T07:25:00\",\"ReceivedBy\":\"Sara Huiting\"}",
                                    "21": "2013-01-02 07:25:00.0000000",
                                    "22": "Sara Huiting",
                                    "23": "15",
                                    "24": "2013-01-02 07:00:00.0000000"
                                },
                                {
                                    "0": "6",
                                    "1": "976",
                                    "2": "976",
                                    "3": "6",
                                    "4": "3",
                                    "5": "3176",
                                    "6": "3176",
                                    "7": "13",
                                    "8": "14",
                                    "9": "2013-01-01",
                                    "10": "13383",
                                    "11": "0",
                                    "12": "NULL",
                                    "13": "NULL",
                                    "14": "Suite 6, 244 Lieu Crescent",
                                    "15": "NULL",
                                    "16": "3",
                                    "17": "0",
                                    "18": "",
                                    "19": "",
                                    "20": "{\"Events\": [{ \"Event\":\"Ready for collection\",\"EventTime\":\"2013-01-01T12:00:00\",\"ConNote\":\"EAN-125-1056\"},{ \"Event\":\"DeliveryAttempt\",\"EventTime\":\"2013-01-02T07:30:00\",\"ConNote\":\"EAN-125-1056\",\"DriverID\":15,\"Latitude\":31.1835648,\"Longitude\":-81.3498179,\"Status\":\"Delivered\"}],\"DeliveredWhen\":\"2013-01-02T07:30:00\",\"ReceivedBy\":\"Alinne Matos\"}",
                                    "21": "2013-01-02 07:30:00.0000000",
                                    "22": "Alinne Matos",
                                    "23": "15",
                                    "24": "2013-01-02 07:00:00.0000000"
                                },
                                {
                                    "0": "7",
                                    "1": "575",
                                    "2": "401",
                                    "3": "7",
                                    "4": "3",
                                    "5": "2349",
                                    "6": "2001",
                                    "7": "8",
                                    "8": "14",
                                    "9": "2013-01-01",
                                    "10": "17913",
                                    "11": "0",
                                    "12": "NULL",
                                    "13": "NULL",
                                    "14": "Shop 227, 178 Bhogireddy Boulevard",
                                    "15": "NULL",
                                    "16": "4",
                                    "17": "0",
                                    "18": "",
                                    "19": "",
                                    "20": "{\"Events\": [{ \"Event\":\"Ready for collection\",\"EventTime\":\"2013-01-01T12:00:00\",\"ConNote\":\"EAN-125-1057\"},{ \"Event\":\"DeliveryAttempt\",\"EventTime\":\"2013-01-02T07:35:00\",\"ConNote\":\"EAN-125-1057\",\"DriverID\":15,\"Latitude\":42.5422939,\"Longitude\":-76.6660589,\"Status\":\"Delivered\"}],\"DeliveredWhen\":\"2013-01-02T07:35:00\",\"ReceivedBy\":\"Dattaatraeya Tottempudi\"}",
                                    "21": "2013-01-02 07:35:00.0000000",
                                    "22": "Dattaatraeya Tottempudi",
                                    "23": "15",
                                    "24": "2013-01-02 07:00:00.0000000"
                                },
                                {
                                    "0": "8",
                                    "1": "964",
                                    "2": "964",
                                    "3": "8",
                                    "4": "3",
                                    "5": "3164",
                                    "6": "3164",
                                    "7": "7",
                                    "8": "14",
                                    "9": "2013-01-01",
                                    "10": "14518",
                                    "11": "0",
                                    "12": "NULL",
                                    "13": "NULL",
                                    "14": "Suite 24, 1300 Sonkar Road",
                                    "15": "NULL",
                                    "16": "3",
                                    "17": "0",
                                    "18": "",
                                    "19": "",
                                    "20": "{\"Events\": [{ \"Event\":\"Ready for collection\",\"EventTime\":\"2013-01-01T12:00:00\",\"ConNote\":\"EAN-125-1058\"},{ \"Event\":\"DeliveryAttempt\",\"EventTime\":\"2013-01-02T07:40:00\",\"ConNote\":\"EAN-125-1058\",\"DriverID\":15,\"Latitude\":28.4624986,\"Longitude\":-82.1948076,\"Status\":\"Delivered\"}],\"DeliveredWhen\":\"2013-01-02T07:40:00\",\"ReceivedBy\":\"Ingrida Zeltina\"}",
                                    "21": "2013-01-02 07:40:00.0000000",
                                    "22": "Ingrida Zeltina",
                                    "23": "15",
                                    "24": "2013-01-02 07:00:00.0000000"
                                },
                                {
                                    "0": "9",
                                    "1": "77",
                                    "2": "1",
                                    "3": "9",
                                    "4": "3",
                                    "5": "1153",
                                    "6": "1001",
                                    "7": "7",
                                    "8": "14",
                                    "9": "2013-01-01",
                                    "10": "17577",
                                    "11": "0",
                                    "12": "NULL",
                                    "13": "NULL",
                                    "14": "Unit 176, 1675 Ribeiro Street",
                                    "15": "NULL",
                                    "16": "2",
                                    "17": "0",
                                    "18": "",
                                    "19": "",
                                    "20": "{\"Events\": [{ \"Event\":\"Ready for collection\",\"EventTime\":\"2013-01-01T12:00:00\",\"ConNote\":\"EAN-125-1059\"},{ \"Event\":\"DeliveryAttempt\",\"EventTime\":\"2013-01-02T07:45:00\",\"ConNote\":\"EAN-125-1059\",\"DriverID\":15,\"Latitude\":30.9913064,\"Longitude\":-83.3726575,\"Status\":\"Delivered\"}],\"DeliveredWhen\":\"2013-01-02T07:45:00\",\"ReceivedBy\":\"Airi Vassiljev\"}",
                                    "21": "2013-01-02 07:45:00.0000000",
                                    "22": "Airi Vassiljev",
                                    "23": "15",
                                    "24": "2013-01-02 07:00:00.0000000"
                                },
                                {
                                    "0": "10",
                                    "1": "191",
                                    "2": "1",
                                    "3": "10",
                                    "4": "3",
                                    "5": "1381",
                                    "6": "1001",
                                    "7": "20",
                                    "8": "14",
                                    "9": "2013-01-01",
                                    "10": "18030",
                                    "11": "0",
                                    "12": "NULL",
                                    "13": "NULL",
                                    "14": "Suite 169, 946 Reddy Street",
                                    "15": "NULL",
                                    "16": "2",
                                    "17": "0",
                                    "18": "",
                                    "19": "",
                                    "20": "{\"Events\": [{ \"Event\":\"Ready for collection\",\"EventTime\":\"2013-01-01T12:00:00\",\"ConNote\":\"EAN-125-1060\"},{ \"Event\":\"DeliveryAttempt\",\"EventTime\":\"2013-01-02T07:50:00\",\"ConNote\":\"EAN-125-1060\",\"DriverID\":15,\"Latitude\":33.1865071,\"Longitude\":-84.2113095,\"Status\":\"Delivered\"}],\"DeliveredWhen\":\"2013-01-02T07:50:00\",\"ReceivedBy\":\"Ester Ahmadian\"}",
                                    "21": "2013-01-02 07:50:00.0000000",
                                    "22": "Ester Ahmadian",
                                    "23": "15",
                                    "24": "2013-01-02 07:00:00.0000000"
                                }
                            ]
                        },
                        "text/html": "<table><tr><th>InvoiceID</th><th>CustomerID</th><th>BillToCustomerID</th><th>OrderID</th><th>DeliveryMethodID</th><th>ContactPersonID</th><th>AccountsPersonID</th><th>SalespersonPersonID</th><th>PackedByPersonID</th><th>InvoiceDate</th><th>CustomerPurchaseOrderNumber</th><th>IsCreditNote</th><th>CreditNoteReason</th><th>Comments</th><th>DeliveryInstructions</th><th>InternalComments</th><th>TotalDryItems</th><th>TotalChillerItems</th><th>DeliveryRun</th><th>RunPosition</th><th>ReturnedDeliveryData</th><th>ConfirmedDeliveryTime</th><th>ConfirmedReceivedBy</th><th>LastEditedBy</th><th>LastEditedWhen</th></tr><tr><td>1</td><td>832</td><td>832</td><td>1</td><td>3</td><td>3032</td><td>3032</td><td>2</td><td>14</td><td>2013-01-01</td><td>12126</td><td>0</td><td>NULL</td><td>NULL</td><td>Suite 24, 1345 Jun Avenue</td><td>NULL</td><td>1</td><td>0</td><td></td><td></td><td>{&quot;Events&quot;: [{ &quot;Event&quot;:&quot;Ready for collection&quot;,&quot;EventTime&quot;:&quot;2013-01-01T12:00:00&quot;,&quot;ConNote&quot;:&quot;EAN-125-1051&quot;},{ &quot;Event&quot;:&quot;DeliveryAttempt&quot;,&quot;EventTime&quot;:&quot;2013-01-02T07:05:00&quot;,&quot;ConNote&quot;:&quot;EAN-125-1051&quot;,&quot;DriverID&quot;:15,&quot;Latitude&quot;:41.3617214,&quot;Longitude&quot;:-81.4695602,&quot;Status&quot;:&quot;Delivered&quot;}],&quot;DeliveredWhen&quot;:&quot;2013-01-02T07:05:00&quot;,&quot;ReceivedBy&quot;:&quot;Aakriti Byrraju&quot;}</td><td>2013-01-02 07:05:00.0000000</td><td>Aakriti Byrraju</td><td>15</td><td>2013-01-02 07:00:00.0000000</td></tr><tr><td>2</td><td>803</td><td>803</td><td>2</td><td>3</td><td>3003</td><td>3003</td><td>8</td><td>14</td><td>2013-01-01</td><td>15342</td><td>0</td><td>NULL</td><td>NULL</td><td>Unit 7, 844 Magnusson Lane</td><td>NULL</td><td>2</td><td>0</td><td></td><td></td><td>{&quot;Events&quot;: [{ &quot;Event&quot;:&quot;Ready for collection&quot;,&quot;EventTime&quot;:&quot;2013-01-01T12:00:00&quot;,&quot;ConNote&quot;:&quot;EAN-125-1052&quot;},{ &quot;Event&quot;:&quot;DeliveryAttempt&quot;,&quot;EventTime&quot;:&quot;2013-01-02T07:10:00&quot;,&quot;ConNote&quot;:&quot;EAN-125-1052&quot;,&quot;DriverID&quot;:15,&quot;Latitude&quot;:40.8657308,&quot;Longitude&quot;:-120.4602262,&quot;Status&quot;:&quot;Delivered&quot;}],&quot;DeliveredWhen&quot;:&quot;2013-01-02T07:10:00&quot;,&quot;ReceivedBy&quot;:&quot;Bala Dixit&quot;}</td><td>2013-01-02 07:10:00.0000000</td><td>Bala Dixit</td><td>15</td><td>2013-01-02 07:00:00.0000000</td></tr><tr><td>3</td><td>105</td><td>1</td><td>3</td><td>3</td><td>1209</td><td>1001</td><td>7</td><td>14</td><td>2013-01-01</td><td>12211</td><td>0</td><td>NULL</td><td>NULL</td><td>Unit 60, 1158 Hrastovsek Boulevard</td><td>NULL</td><td>1</td><td>0</td><td></td><td></td><td>{&quot;Events&quot;: [{ &quot;Event&quot;:&quot;Ready for collection&quot;,&quot;EventTime&quot;:&quot;2013-01-01T12:00:00&quot;,&quot;ConNote&quot;:&quot;EAN-125-1053&quot;},{ &quot;Event&quot;:&quot;DeliveryAttempt&quot;,&quot;EventTime&quot;:&quot;2013-01-02T07:15:00&quot;,&quot;ConNote&quot;:&quot;EAN-125-1053&quot;,&quot;DriverID&quot;:15,&quot;Latitude&quot;:33.4848451,&quot;Longitude&quot;:-89.3606259,&quot;Status&quot;:&quot;Delivered&quot;}],&quot;DeliveredWhen&quot;:&quot;2013-01-02T07:15:00&quot;,&quot;ReceivedBy&quot;:&quot;Sung-Hwan Hwang&quot;}</td><td>2013-01-02 07:15:00.0000000</td><td>Sung-Hwan Hwang</td><td>15</td><td>2013-01-02 07:00:00.0000000</td></tr><tr><td>4</td><td>57</td><td>1</td><td>4</td><td>3</td><td>1113</td><td>1001</td><td>16</td><td>14</td><td>2013-01-01</td><td>17129</td><td>0</td><td>NULL</td><td>NULL</td><td>Unit 136, 1331 Dutta Crescent</td><td>NULL</td><td>3</td><td>0</td><td></td><td></td><td>{&quot;Events&quot;: [{ &quot;Event&quot;:&quot;Ready for collection&quot;,&quot;EventTime&quot;:&quot;2013-01-01T12:00:00&quot;,&quot;ConNote&quot;:&quot;EAN-125-1054&quot;},{ &quot;Event&quot;:&quot;DeliveryAttempt&quot;,&quot;EventTime&quot;:&quot;2013-01-02T07:20:00&quot;,&quot;ConNote&quot;:&quot;EAN-125-1054&quot;,&quot;DriverID&quot;:15,&quot;Latitude&quot;:41.0208896,&quot;Longitude&quot;:-81.4359458,&quot;Status&quot;:&quot;Delivered&quot;}],&quot;DeliveredWhen&quot;:&quot;2013-01-02T07:20:00&quot;,&quot;ReceivedBy&quot;:&quot;Aile Mae&quot;}</td><td>2013-01-02 07:20:00.0000000</td><td>Aile Mae</td><td>15</td><td>2013-01-02 07:00:00.0000000</td></tr><tr><td>5</td><td>905</td><td>905</td><td>5</td><td>3</td><td>3105</td><td>3105</td><td>3</td><td>14</td><td>2013-01-01</td><td>10369</td><td>0</td><td>NULL</td><td>NULL</td><td>Shop 30, 1476 Poddar Lane</td><td>NULL</td><td>3</td><td>0</td><td></td><td></td><td>{&quot;Events&quot;: [{ &quot;Event&quot;:&quot;Ready for collection&quot;,&quot;EventTime&quot;:&quot;2013-01-01T12:00:00&quot;,&quot;ConNote&quot;:&quot;EAN-125-1055&quot;},{ &quot;Event&quot;:&quot;DeliveryAttempt&quot;,&quot;EventTime&quot;:&quot;2013-01-02T07:25:00&quot;,&quot;ConNote&quot;:&quot;EAN-125-1055&quot;,&quot;DriverID&quot;:15,&quot;Latitude&quot;:45.7849627,&quot;Longitude&quot;:-93.5569028,&quot;Status&quot;:&quot;Delivered&quot;}],&quot;DeliveredWhen&quot;:&quot;2013-01-02T07:25:00&quot;,&quot;ReceivedBy&quot;:&quot;Sara Huiting&quot;}</td><td>2013-01-02 07:25:00.0000000</td><td>Sara Huiting</td><td>15</td><td>2013-01-02 07:00:00.0000000</td></tr><tr><td>6</td><td>976</td><td>976</td><td>6</td><td>3</td><td>3176</td><td>3176</td><td>13</td><td>14</td><td>2013-01-01</td><td>13383</td><td>0</td><td>NULL</td><td>NULL</td><td>Suite 6, 244 Lieu Crescent</td><td>NULL</td><td>3</td><td>0</td><td></td><td></td><td>{&quot;Events&quot;: [{ &quot;Event&quot;:&quot;Ready for collection&quot;,&quot;EventTime&quot;:&quot;2013-01-01T12:00:00&quot;,&quot;ConNote&quot;:&quot;EAN-125-1056&quot;},{ &quot;Event&quot;:&quot;DeliveryAttempt&quot;,&quot;EventTime&quot;:&quot;2013-01-02T07:30:00&quot;,&quot;ConNote&quot;:&quot;EAN-125-1056&quot;,&quot;DriverID&quot;:15,&quot;Latitude&quot;:31.1835648,&quot;Longitude&quot;:-81.3498179,&quot;Status&quot;:&quot;Delivered&quot;}],&quot;DeliveredWhen&quot;:&quot;2013-01-02T07:30:00&quot;,&quot;ReceivedBy&quot;:&quot;Alinne Matos&quot;}</td><td>2013-01-02 07:30:00.0000000</td><td>Alinne Matos</td><td>15</td><td>2013-01-02 07:00:00.0000000</td></tr><tr><td>7</td><td>575</td><td>401</td><td>7</td><td>3</td><td>2349</td><td>2001</td><td>8</td><td>14</td><td>2013-01-01</td><td>17913</td><td>0</td><td>NULL</td><td>NULL</td><td>Shop 227, 178 Bhogireddy Boulevard</td><td>NULL</td><td>4</td><td>0</td><td></td><td></td><td>{&quot;Events&quot;: [{ &quot;Event&quot;:&quot;Ready for collection&quot;,&quot;EventTime&quot;:&quot;2013-01-01T12:00:00&quot;,&quot;ConNote&quot;:&quot;EAN-125-1057&quot;},{ &quot;Event&quot;:&quot;DeliveryAttempt&quot;,&quot;EventTime&quot;:&quot;2013-01-02T07:35:00&quot;,&quot;ConNote&quot;:&quot;EAN-125-1057&quot;,&quot;DriverID&quot;:15,&quot;Latitude&quot;:42.5422939,&quot;Longitude&quot;:-76.6660589,&quot;Status&quot;:&quot;Delivered&quot;}],&quot;DeliveredWhen&quot;:&quot;2013-01-02T07:35:00&quot;,&quot;ReceivedBy&quot;:&quot;Dattaatraeya Tottempudi&quot;}</td><td>2013-01-02 07:35:00.0000000</td><td>Dattaatraeya Tottempudi</td><td>15</td><td>2013-01-02 07:00:00.0000000</td></tr><tr><td>8</td><td>964</td><td>964</td><td>8</td><td>3</td><td>3164</td><td>3164</td><td>7</td><td>14</td><td>2013-01-01</td><td>14518</td><td>0</td><td>NULL</td><td>NULL</td><td>Suite 24, 1300 Sonkar Road</td><td>NULL</td><td>3</td><td>0</td><td></td><td></td><td>{&quot;Events&quot;: [{ &quot;Event&quot;:&quot;Ready for collection&quot;,&quot;EventTime&quot;:&quot;2013-01-01T12:00:00&quot;,&quot;ConNote&quot;:&quot;EAN-125-1058&quot;},{ &quot;Event&quot;:&quot;DeliveryAttempt&quot;,&quot;EventTime&quot;:&quot;2013-01-02T07:40:00&quot;,&quot;ConNote&quot;:&quot;EAN-125-1058&quot;,&quot;DriverID&quot;:15,&quot;Latitude&quot;:28.4624986,&quot;Longitude&quot;:-82.1948076,&quot;Status&quot;:&quot;Delivered&quot;}],&quot;DeliveredWhen&quot;:&quot;2013-01-02T07:40:00&quot;,&quot;ReceivedBy&quot;:&quot;Ingrida Zeltina&quot;}</td><td>2013-01-02 07:40:00.0000000</td><td>Ingrida Zeltina</td><td>15</td><td>2013-01-02 07:00:00.0000000</td></tr><tr><td>9</td><td>77</td><td>1</td><td>9</td><td>3</td><td>1153</td><td>1001</td><td>7</td><td>14</td><td>2013-01-01</td><td>17577</td><td>0</td><td>NULL</td><td>NULL</td><td>Unit 176, 1675 Ribeiro Street</td><td>NULL</td><td>2</td><td>0</td><td></td><td></td><td>{&quot;Events&quot;: [{ &quot;Event&quot;:&quot;Ready for collection&quot;,&quot;EventTime&quot;:&quot;2013-01-01T12:00:00&quot;,&quot;ConNote&quot;:&quot;EAN-125-1059&quot;},{ &quot;Event&quot;:&quot;DeliveryAttempt&quot;,&quot;EventTime&quot;:&quot;2013-01-02T07:45:00&quot;,&quot;ConNote&quot;:&quot;EAN-125-1059&quot;,&quot;DriverID&quot;:15,&quot;Latitude&quot;:30.9913064,&quot;Longitude&quot;:-83.3726575,&quot;Status&quot;:&quot;Delivered&quot;}],&quot;DeliveredWhen&quot;:&quot;2013-01-02T07:45:00&quot;,&quot;ReceivedBy&quot;:&quot;Airi Vassiljev&quot;}</td><td>2013-01-02 07:45:00.0000000</td><td>Airi Vassiljev</td><td>15</td><td>2013-01-02 07:00:00.0000000</td></tr><tr><td>10</td><td>191</td><td>1</td><td>10</td><td>3</td><td>1381</td><td>1001</td><td>20</td><td>14</td><td>2013-01-01</td><td>18030</td><td>0</td><td>NULL</td><td>NULL</td><td>Suite 169, 946 Reddy Street</td><td>NULL</td><td>2</td><td>0</td><td></td><td></td><td>{&quot;Events&quot;: [{ &quot;Event&quot;:&quot;Ready for collection&quot;,&quot;EventTime&quot;:&quot;2013-01-01T12:00:00&quot;,&quot;ConNote&quot;:&quot;EAN-125-1060&quot;},{ &quot;Event&quot;:&quot;DeliveryAttempt&quot;,&quot;EventTime&quot;:&quot;2013-01-02T07:50:00&quot;,&quot;ConNote&quot;:&quot;EAN-125-1060&quot;,&quot;DriverID&quot;:15,&quot;Latitude&quot;:33.1865071,&quot;Longitude&quot;:-84.2113095,&quot;Status&quot;:&quot;Delivered&quot;}],&quot;DeliveredWhen&quot;:&quot;2013-01-02T07:50:00&quot;,&quot;ReceivedBy&quot;:&quot;Ester Ahmadian&quot;}</td><td>2013-01-02 07:50:00.0000000</td><td>Ester Ahmadian</td><td>15</td><td>2013-01-02 07:00:00.0000000</td></tr></table>"
                    },
                    "metadata": {}
                }
            ],
            "execution_count": 1
        },
        {
            "cell_type": "markdown",
            "source": "",
            "metadata": {}
        }
    ]
}}